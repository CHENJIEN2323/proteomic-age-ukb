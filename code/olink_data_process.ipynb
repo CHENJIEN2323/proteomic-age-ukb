{
 "cells": [
  {
   "cell_type": "code",
   "execution_count": null,
   "id": "f599f19d",
   "metadata": {},
   "outputs": [],
   "source": [
    "import pandas as pd\n",
    "import miceforest as mf"
   ]
  },
  {
   "cell_type": "code",
   "execution_count": null,
   "id": "e693bc84",
   "metadata": {},
   "outputs": [],
   "source": [
    "file_path = '/finngen/library-red/EA5/proteomics/olink/third_batch/QCd/proteomics_QC_all.txt'\n",
    "finngen_olink = pd.read_csv(file_path, sep='\\t')"
   ]
  },
  {
   "cell_type": "code",
   "execution_count": null,
   "id": "56d1553d",
   "metadata": {},
   "outputs": [],
   "source": [
    "# rename columns\n",
    "finngen_olink = finngen_olink.rename(columns={'NT-proBNP': 'NTproBNP2', 'ERVV-1': 'ERVV_1', 'HLA-A': 'HLA_A', 'HLA-DRA': 'HLA_DRA', 'HLA-E': 'HLA_E'})\n",
    "\n",
    "# Replace 'NTproBNP2' with the duplicate column name\n",
    "finngen_olink['NTproBNP'] = finngen_olink[['NTproBNP', 'NTproBNP2']].bfill(axis=1).iloc[:, 0]\n",
    "finngen_olink.drop(columns='NTproBNP2', inplace=True)  "
   ]
  },
  {
   "cell_type": "code",
   "execution_count": null,
   "id": "89f4eb5e-63b7-41f6-bf02-c5930d622014",
   "metadata": {},
   "outputs": [],
   "source": [
    "# Calculate the threshold for missing data\n",
    "perc = 0.3\n",
    "threshold = perc * len(finngen_olink.index)\n",
    "\n",
    "# Count the number of missing values in each column\n",
    "mperc = (finngen_olink.isnull().sum() / len(finngen_olink.index)) * 100\n",
    "\n",
    "# Filter columns where missing data is over 30%\n",
    "cols_over = mperc[mperc > (perc*100)].index\n",
    "\n",
    "print(f\"Column names with missing data over {perc*100}%: {cols_over}\")"
   ]
  },
  {
   "cell_type": "code",
   "execution_count": null,
   "id": "6b2e285c",
   "metadata": {},
   "outputs": [],
   "source": [
    "# FID = finngen_olink['FID']\n",
    "# finngen_olink.set_index('FID', inplace=True)\n",
    "finngen_olink.drop('IID', axis=1, inplace=True)"
   ]
  },
  {
   "cell_type": "code",
   "execution_count": null,
   "id": "aff94942-d536-4b5a-b27f-668bdd7d9c46",
   "metadata": {},
   "outputs": [],
   "source": [
    "## Create a dictionary of variables use to impute\n",
    "\n",
    "# columns that should not be used to impute missing (including 3 proteins with high missing)\n",
    "exclude = ['FID'] + list(cols_over)\n",
    "# variables we don't want imputed\n",
    "dont_impute = ['FID']\n",
    "# create dict with list of predictors for each protein\n",
    "column_dict = {col: [other_col for other_col in finngen_olink.columns if other_col != col and other_col not in exclude] for col in finngen_olink.columns if col not in dont_impute}"
   ]
  },
  {
   "cell_type": "code",
   "execution_count": null,
   "id": "83adaa28-0b23-4341-85fa-386aa4eb1037",
   "metadata": {},
   "outputs": [],
   "source": [
    "'FID' in column_dict['APOE']"
   ]
  },
  {
   "cell_type": "code",
   "execution_count": null,
   "id": "80ecbf6a",
   "metadata": {},
   "outputs": [],
   "source": [
    "finngen_olink"
   ]
  },
  {
   "cell_type": "code",
   "execution_count": null,
   "id": "4ae528d0-1a69-4af3-83ad-2bb16147a6b8",
   "metadata": {},
   "outputs": [],
   "source": [
    "finngen_olink['FID'] = pd.Categorical(finngen_olink['FID'])\n",
    "finngen_olink"
   ]
  },
  {
   "cell_type": "code",
   "execution_count": null,
   "id": "0480b6b9-fc81-4b6e-8036-a18b9e33d89c",
   "metadata": {},
   "outputs": [],
   "source": [
    "# set random seed\n",
    "random_seed = 3456\n",
    "\n",
    "# run miceforest imputation on multiple cores\n",
    "kds = mf.ImputationKernel(\n",
    "  finngen_olink,\n",
    "  datasets=1,\n",
    "  variable_schema=column_dict,\n",
    "  random_state=random_seed\n",
    ")\n",
    "\n",
    "# run\n",
    "kds.mice(\n",
    "  iterations=5,\n",
    "  n_jobs=-1, \n",
    "  verbose=True\n",
    ")\n",
    "\n",
    "# get the completed dataframe from the miceforest object\n",
    "olink_data_imputed = kds.complete_data()\n",
    "\n",
    "#save imputed data\n",
    "olink_data_imputed.to_csv('/home/ivm/Documents/olink_imputed_jan_25_2024.csv', index=None)"
   ]
  },
  {
   "cell_type": "code",
   "execution_count": null,
   "id": "a767d38a",
   "metadata": {
    "jupyter": {
     "source_hidden": true
    }
   },
   "outputs": [],
   "source": [
    "from sklearn.experimental import enable_iterative_imputer\n",
    "from sklearn.impute import IterativeImputer\n",
    "from sklearn.ensemble import RandomForestRegressor\n",
    "from sklearn.linear_model import BayesianRidge\n",
    "\n",
    "# initialize imputer\n",
    "imputer = IterativeImputer(\n",
    "#     estimator=RandomForestRegressor(),\n",
    "    estimator=BayesianRidge(),\n",
    "    max_iter=5,\n",
    "    n_nearest_features=100,\n",
    "    random_state=3456,\n",
    "    verbose=2\n",
    ")\n",
    "\n",
    "# fit imputer\n",
    "imputed = imputer.fit_transform(finngen_olink)\n",
    "finngen_olink_imputed = pd.DataFrame(imputed, columns=finngen_olink.columns, index=finngen_olink.index)\n"
   ]
  },
  {
   "cell_type": "code",
   "execution_count": null,
   "id": "913d73cf",
   "metadata": {
    "jupyter": {
     "source_hidden": true
    }
   },
   "outputs": [],
   "source": [
    "from sklearn.impute import SimpleImputer\n",
    "import numpy as np\n",
    "\n",
    "imp = SimpleImputer(\n",
    "    missing_values=np.nan, \n",
    "    strategy='mean'\n",
    ")\n",
    "\n",
    "# fit imputer\n",
    "imputed = imp.fit_transform(finngen_olink)\n",
    "finngen_olink_imputed = pd.DataFrame(imputed, columns=finngen_olink.columns, index=finngen_olink.index)"
   ]
  },
  {
   "cell_type": "code",
   "execution_count": null,
   "id": "75bd3c18",
   "metadata": {
    "jupyter": {
     "source_hidden": true
    }
   },
   "outputs": [],
   "source": [
    "finngen_olink_imputed"
   ]
  },
  {
   "cell_type": "code",
   "execution_count": null,
   "id": "da0c605a",
   "metadata": {
    "jupyter": {
     "source_hidden": true
    }
   },
   "outputs": [],
   "source": [
    "finngen_olink_imputed['FID'] = finngen_olink_imputed.index\n",
    "finngen_olink_imputed.to_csv('/home/ivm/Documents/olink_imputed_dec_7_2023.csv', index=None)"
   ]
  }
 ],
 "metadata": {
  "kernelspec": {
   "display_name": "Python 3 (ipykernel)",
   "language": "python",
   "name": "python3"
  },
  "language_info": {
   "codemirror_mode": {
    "name": "ipython",
    "version": 3
   },
   "file_extension": ".py",
   "mimetype": "text/x-python",
   "name": "python",
   "nbconvert_exporter": "python",
   "pygments_lexer": "ipython3",
   "version": "3.10.13"
  }
 },
 "nbformat": 4,
 "nbformat_minor": 5
}
